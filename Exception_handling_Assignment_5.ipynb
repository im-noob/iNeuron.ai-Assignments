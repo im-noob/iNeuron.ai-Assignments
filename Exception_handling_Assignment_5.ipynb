{
  "nbformat": 4,
  "nbformat_minor": 0,
  "metadata": {
    "colab": {
      "name": "Untitled",
      "provenance": [],
      "collapsed_sections": [],
      "authorship_tag": "ABX9TyM3av8mQMlkLVs5KUG6440r",
      "include_colab_link": true
    },
    "kernelspec": {
      "name": "python3",
      "display_name": "Python 3"
    }
  },
  "cells": [
    {
      "cell_type": "markdown",
      "metadata": {
        "id": "view-in-github",
        "colab_type": "text"
      },
      "source": [
        "<a href=\"https://colab.research.google.com/github/im-noob/iNeuron.ai-Assignments/blob/master/Exception_handling_Assignment_5.ipynb\" target=\"_parent\"><img src=\"https://colab.research.google.com/assets/colab-badge.svg\" alt=\"Open In Colab\"/></a>"
      ]
    },
    {
      "cell_type": "markdown",
      "metadata": {
        "id": "XvRJui6GLX-5",
        "colab_type": "text"
      },
      "source": [
        "# Exception handling Assignment\n",
        "\n"
      ]
    },
    {
      "cell_type": "markdown",
      "metadata": {
        "id": "fXP7UOg5LjfZ",
        "colab_type": "text"
      },
      "source": [
        "### 1. Write a function to compute 5/0 and use try/except to catch the exceptions.\n",
        "\n",
        "---\n",
        "\n"
      ]
    },
    {
      "cell_type": "code",
      "metadata": {
        "id": "hrwuQhBDL7Pk",
        "colab_type": "code",
        "colab": {}
      },
      "source": [
        "def compute(a,b):\n",
        "    try: \n",
        "        result = a/b\n",
        "        print(result)\n",
        "    except Exception as e:\n",
        "        print('You encounter a error:',e)"
      ],
      "execution_count": 1,
      "outputs": []
    },
    {
      "cell_type": "code",
      "metadata": {
        "id": "Qr7tVlgYMcxn",
        "colab_type": "code",
        "colab": {
          "base_uri": "https://localhost:8080/",
          "height": 34
        },
        "outputId": "7c73cd97-0c23-489c-f8fd-feac4de99962"
      },
      "source": [
        "compute(5,0)"
      ],
      "execution_count": 2,
      "outputs": [
        {
          "output_type": "stream",
          "text": [
            "You encounter a error: division by zero\n"
          ],
          "name": "stdout"
        }
      ]
    },
    {
      "cell_type": "markdown",
      "metadata": {
        "id": "rabSow49NHVY",
        "colab_type": "text"
      },
      "source": [
        "### Implement a Python program to generate all sentences where subject is in [\"Americans\", \"Indians\"] and verb is in [\"Play\", \"watch\"] and the object is in [\"Baseball\",\"cricket\"]. \n",
        "\n",
        "Hint: Subject,Verb and Object should be declared in the program as shown below. \n",
        "```\n",
        "subjects=[\"Americans \",\"Indians\"] \n",
        "verbs=[\"play\",\"watch\"] \n",
        "objects=[\"Baseball\",\"Cricket\"]\n",
        "```\n",
        "**Output should come as below:**\n",
        "\n",
        "\n",
        "```\n",
        "Americans play Baseball.\n",
        "Americans play Cricket.\n",
        "Americans watch Baseball.\n",
        "Americans watch Cricket.\n",
        "Indians play Baseball.\n",
        "Indians play Cricket.\n",
        "Indians watch Baseball.\n",
        "Indians watch Cricket.\n",
        "```"
      ]
    },
    {
      "cell_type": "code",
      "metadata": {
        "id": "3DWCCoCUNIA7",
        "colab_type": "code",
        "colab": {}
      },
      "source": [
        "def generate_sentence(subjects,verbs,objects):\n",
        "    for subject in subjects:\n",
        "        for verb in verbs:\n",
        "            for one_object in objects:\n",
        "                print(subject+' '+verb+' '+one_object)"
      ],
      "execution_count": 3,
      "outputs": []
    },
    {
      "cell_type": "code",
      "metadata": {
        "id": "Q1Xs30VVQVF2",
        "colab_type": "code",
        "colab": {
          "base_uri": "https://localhost:8080/",
          "height": 158
        },
        "outputId": "0e7acaa6-84da-4eda-b4a2-0ee2a1dea61d"
      },
      "source": [
        "subjects=[\"Americans \",\"Indians\"]\n",
        "verbs=[\"play\",\"watch\"]\n",
        "objects=[\"Baseball\",\"Cricket\"]\n",
        "generate_sentence(subjects,verbs,objects)"
      ],
      "execution_count": 4,
      "outputs": [
        {
          "output_type": "stream",
          "text": [
            "Americans  play Baseball\n",
            "Americans  play Cricket\n",
            "Americans  watch Baseball\n",
            "Americans  watch Cricket\n",
            "Indians play Baseball\n",
            "Indians play Cricket\n",
            "Indians watch Baseball\n",
            "Indians watch Cricket\n"
          ],
          "name": "stdout"
        }
      ]
    }
  ]
}